{
 "cells": [
  {
   "cell_type": "code",
   "execution_count": 13,
   "metadata": {},
   "outputs": [
    {
     "data": {
      "text/plain": [
       "3.1414712"
      ]
     },
     "execution_count": 13,
     "metadata": {},
     "output_type": "execute_result"
    }
   ],
   "source": [
    "import random\n",
    "\n",
    "def estimate_pi(n):\n",
    "    num_point_in_circle = 0\n",
    "    num_point_total = 0\n",
    "\n",
    "    for _ in range(n):\n",
    "        x = random.random()\n",
    "        y = random.random()\n",
    "        if x**2 + y**2 <= 1:\n",
    "            num_point_in_circle += 1\n",
    "        num_point_total += 1\n",
    "        \n",
    "    return 4 * num_point_in_circle / num_point_total\n",
    "\n",
    "estimate_pi(50000000)"
   ]
  },
  {
   "cell_type": "code",
   "execution_count": 14,
   "metadata": {},
   "outputs": [
    {
     "data": {
      "text/plain": [
       "3.141548475367955"
      ]
     },
     "execution_count": 14,
     "metadata": {},
     "output_type": "execute_result"
    }
   ],
   "source": [
    "import random\n",
    "import math\n",
    "\n",
    "def estimate_pi_using_coprimes(n):\n",
    "    counter = 0\n",
    "\n",
    "    list1 = [random.randint(1, 1000000) for _ in range(n)]\n",
    "    list2 = [random.randint(1, 1000000) for _ in range(n)]\n",
    "\n",
    "    for i, j in zip(list1, list2):\n",
    "        if math.gcd(i, j) == 1:\n",
    "            counter += 1\n",
    "\n",
    "    probability_of_coprime = counter / n\n",
    "    return math.sqrt(6 / probability_of_coprime)\n",
    "\n",
    "estimate_pi_using_coprimes(10000000)"
   ]
  }
 ],
 "metadata": {
  "interpreter": {
   "hash": "b0fa6594d8f4cbf19f97940f81e996739fb7646882a419484c72d19e05852a7e"
  },
  "kernelspec": {
   "display_name": "Python 3.9.12 64-bit",
   "language": "python",
   "name": "python3"
  },
  "language_info": {
   "codemirror_mode": {
    "name": "ipython",
    "version": 3
   },
   "file_extension": ".py",
   "mimetype": "text/x-python",
   "name": "python",
   "nbconvert_exporter": "python",
   "pygments_lexer": "ipython3",
   "version": "3.9.13"
  },
  "orig_nbformat": 4
 },
 "nbformat": 4,
 "nbformat_minor": 2
}
